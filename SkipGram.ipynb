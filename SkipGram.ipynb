{
 "cells": [
  {
   "cell_type": "code",
   "execution_count": 1,
   "id": "8d257b33-1573-4e81-9bfa-b5a7940b0c2c",
   "metadata": {},
   "outputs": [],
   "source": [
    "import os\n",
    "import numpy as np\n",
    "import pandas as pd\n",
    "import gensim\n",
    "from gensim.models import Word2Vec\n",
    "from gensim.models.word2vec import LineSentence"
   ]
  },
  {
   "cell_type": "code",
   "execution_count": 5,
   "id": "2deb1c04-1c96-4f87-aba6-8d6194b4c3b1",
   "metadata": {},
   "outputs": [],
   "source": [
    "# Load CSV files\n",
    "def load_data(file_path):\n",
    "    return pd.read_csv(file_path, compression='gzip')\n",
    "\n",
    "# Define file paths\n",
    "os.chdir(\"C:/Users/曾雪竹/Desktop/SM2/ST5230/mimic-iv-note-2.2/mimic-iv-note-2.2\")\n",
    "\n",
    "discharge_file = './discharge.csv.gz'\n",
    "discharge_detail_file = './discharge_detail.csv.gz'\n",
    "radiology_file = './radiology.csv.gz'\n",
    "radiology_detail_file = './radiology_detail.csv.gz'\n",
    "\n",
    "# Load datasets\n",
    "discharge_df = load_data(discharge_file)\n",
    "radiology_df = load_data(radiology_file)\n"
   ]
  },
  {
   "cell_type": "code",
   "execution_count": 7,
   "id": "dc0d9fc3-1fa5-4f03-a194-d8a362bee6e9",
   "metadata": {},
   "outputs": [
    {
     "name": "stdout",
     "output_type": "stream",
     "text": [
      "<class 'pandas.core.frame.DataFrame'>\n",
      "RangeIndex: 331793 entries, 0 to 331792\n",
      "Data columns (total 8 columns):\n",
      " #   Column      Non-Null Count   Dtype \n",
      "---  ------      --------------   ----- \n",
      " 0   note_id     331793 non-null  object\n",
      " 1   subject_id  331793 non-null  int64 \n",
      " 2   hadm_id     331793 non-null  int64 \n",
      " 3   note_type   331793 non-null  object\n",
      " 4   note_seq    331793 non-null  int64 \n",
      " 5   charttime   331793 non-null  object\n",
      " 6   storetime   331776 non-null  object\n",
      " 7   text        331793 non-null  object\n",
      "dtypes: int64(3), object(5)\n",
      "memory usage: 20.3+ MB\n",
      "None\n"
     ]
    }
   ],
   "source": [
    "print(discharge_df.info())"
   ]
  },
  {
   "cell_type": "code",
   "execution_count": 9,
   "id": "0db28a84-a1ac-4068-9560-615d5dd6e299",
   "metadata": {},
   "outputs": [
    {
     "name": "stdout",
     "output_type": "stream",
     "text": [
      "<class 'pandas.core.frame.DataFrame'>\n",
      "RangeIndex: 2321355 entries, 0 to 2321354\n",
      "Data columns (total 8 columns):\n",
      " #   Column      Dtype  \n",
      "---  ------      -----  \n",
      " 0   note_id     object \n",
      " 1   subject_id  int64  \n",
      " 2   hadm_id     float64\n",
      " 3   note_type   object \n",
      " 4   note_seq    int64  \n",
      " 5   charttime   object \n",
      " 6   storetime   object \n",
      " 7   text        object \n",
      "dtypes: float64(1), int64(2), object(5)\n",
      "memory usage: 141.7+ MB\n",
      "None\n"
     ]
    }
   ],
   "source": [
    "print(radiology_df.info())"
   ]
  },
  {
   "cell_type": "code",
   "execution_count": 37,
   "id": "bb7f4f43-fbd7-4888-8e85-f5c38d0bddf5",
   "metadata": {},
   "outputs": [],
   "source": [
    "subset_dis_df = discharge_df.sample(n=10000, random_state=42)  # 抽取 10,000 行\n",
    "subset_rad_df = radiology_df.sample(n=10000, random_state=42)  # 抽取 10,000 行\n",
    "\n",
    "# Extract text columns (assuming 'text' is the main content column)\n",
    "discharge_texts = subset_dis_df['text'].dropna().tolist()\n",
    "radiology_texts = subset_rad_df['text'].dropna().tolist()\n",
    "\n",
    "# Merge text data\n",
    "all_texts = discharge_texts + radiology_texts\n",
    "\n"
   ]
  },
  {
   "cell_type": "code",
   "execution_count": 39,
   "id": "a6e328f5-363c-405a-9bec-d4ea68bac91a",
   "metadata": {},
   "outputs": [],
   "source": [
    "# Sample Preprocessing Function\n",
    "def preprocess_text(texts):\n",
    "    processed_texts = [gensim.utils.simple_preprocess(doc) for doc in texts]\n",
    "    return processed_texts"
   ]
  },
  {
   "cell_type": "code",
   "execution_count": 41,
   "id": "67994b50-8e43-4b30-968e-bd55df54a996",
   "metadata": {},
   "outputs": [],
   "source": [
    "tokenized_data = preprocess_text(all_texts)"
   ]
  },
  {
   "cell_type": "code",
   "execution_count": 43,
   "id": "9ab105b3-3103-4720-82c1-9390ee2b78e3",
   "metadata": {},
   "outputs": [
    {
     "name": "stdout",
     "output_type": "stream",
     "text": [
      "Word2Vec (Skip-gram) 训练时间: 52.40 秒\n"
     ]
    }
   ],
   "source": [
    "# Train a Word2Vec model\n",
    "# The min_count parameter ensures words appearing less than 2 time are ignored\n",
    "import time\n",
    "\n",
    "start_time=time.time()\n",
    "word2vec_model = Word2Vec(sentences=tokenized_data, vector_size=100, window=5, min_count=2, sg=1, workers=8)\n",
    "end_time = time.time()\n",
    "\n",
    "print(f\"Word2Vec (Skip-gram) 训练时间: {end_time - start_time:.2f} 秒\")\n",
    "\n",
    "word2vec_model.save(\"skipgram_model.model\")"
   ]
  },
  {
   "cell_type": "code",
   "execution_count": 45,
   "id": "ceec5db5-f937-4759-b1f7-f3107d097434",
   "metadata": {},
   "outputs": [
    {
     "data": {
      "image/png": "[encoded data removed]",
      "text/plain": [
       "<Figure size 800x600 with 1 Axes>"
      ]
     },
     "metadata": {},
     "output_type": "display_data"
    }
   ],
   "source": [
    "#PCA visualization\n",
    "import matplotlib.pyplot as plt\n",
    "from sklearn.decomposition import PCA\n",
    "\n",
    "# 选择关键词\n",
    "keywords = [\"pneumonia\", \"diabetes\", \"aspirin\", \"surgery\", \"blood_test\"]\n",
    "\n",
    "# 获取词向量\n",
    "vectors = np.array([word2vec_model.wv[word] for word in keywords if word in word2vec_model.wv])\n",
    "\n",
    "# PCA 降维到 2 维\n",
    "pca = PCA(n_components=2)\n",
    "reduced_vectors = pca.fit_transform(vectors)\n",
    "\n",
    "# 绘制散点图\n",
    "plt.figure(figsize=(8, 6))\n",
    "plt.scatter(reduced_vectors[:, 0], reduced_vectors[:, 1])\n",
    "\n",
    "# 标注关键词\n",
    "for i, word in enumerate(keywords):\n",
    "    if word in word2vec_model.wv:\n",
    "        plt.annotate(word, xy=(reduced_vectors[i, 0], reduced_vectors[i, 1]))\n",
    "\n",
    "plt.title(\"PCA Visualization of Medical Terms\")\n",
    "plt.show()\n"
   ]
  },
  {
   "cell_type": "code",
   "execution_count": 47,
   "id": "fe785bf7-2f62-46d6-b16d-70ee5e8b3a11",
   "metadata": {},
   "outputs": [
    {
     "name": "stdout",
     "output_type": "stream",
     "text": [
      " cosine similarity (pneumonia, infection): 0.7387\n",
      " cosine similarity (aspirin, ibuprofen): 0.7186\n",
      " cosine similarity (surgery, operation): 0.5557\n"
     ]
    }
   ],
   "source": [
    "# cosine similarity \n",
    "from scipy.spatial.distance import cosine\n",
    "\n",
    "def cosine_similarity(word1, word2, model):\n",
    "    if word1 in model.wv and word2 in model.wv:\n",
    "        sim = 1 - cosine(model.wv[word1], model.wv[word2])\n",
    "        return sim\n",
    "    else:\n",
    "        return None\n",
    "\n",
    "word_pairs = [(\"pneumonia\", \"infection\"), (\"aspirin\", \"ibuprofen\"), (\"surgery\", \"operation\")]\n",
    "\n",
    "for w1, w2 in word_pairs:\n",
    "    sim = cosine_similarity(w1, w2, word2vec_model)\n",
    "    if sim is not None:\n",
    "        print(f\" cosine similarity ({w1}, {w2}): {sim:.4f}\")\n",
    "    else:\n",
    "        print(f\"{w1} or {w2} not in corpus\")\n"
   ]
  },
  {
   "cell_type": "code",
   "execution_count": null,
   "id": "0143ae76-1a08-4b70-be32-b19007da7c21",
   "metadata": {},
   "outputs": [],
   "source": []
  }
 ],
 "metadata": {
  "kernelspec": {
   "display_name": "Python [conda env:base] *",
   "language": "python",
   "name": "conda-base-py"
  },
  "language_info": {
   "codemirror_mode": {
    "name": "ipython",
    "version": 3
   },
   "file_extension": ".py",
   "mimetype": "text/x-python",
   "name": "python",
   "nbconvert_exporter": "python",
   "pygments_lexer": "ipython3",
   "version": "3.12.7"
  }
 },
 "nbformat": 4,
 "nbformat_minor": 5
}
